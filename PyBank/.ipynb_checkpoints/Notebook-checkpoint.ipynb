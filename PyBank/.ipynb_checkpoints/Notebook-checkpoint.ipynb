{
 "cells": [
  {
   "cell_type": "code",
   "execution_count": 34,
   "metadata": {},
   "outputs": [
    {
     "name": "stdout",
     "output_type": "stream",
     "text": [
      "Financial Analysis\n",
      "--------------------------------\n",
      "Total Months: 86\n",
      "Total: 38382578\n",
      "Average  Change: -2315.12\n",
      "Greatest Increase in Profits: Feb-2012 1926159\n",
      "Greatest Decrease in Profits: Sep-2013 -2196167\n"
     ]
    }
   ],
   "source": [
    "import os\n",
    "import csv\n",
    "\n",
    "Data=os.path.join('..','PyBank', 'budget_data.csv')\n",
    "Date=[]\n",
    "PL=[]\n",
    "Change=[]\n",
    "\n",
    "with open(Data, newline='') as csvfile:\n",
    "    csvreader=csv.reader(csvfile, delimiter=\",\")\n",
    "    csv_header=next(csvreader)\n",
    "    #print(f\"{csv_header}\")\n",
    "    for row in csvreader:\n",
    "        Date.append(row[0])\n",
    "        PL.append(int(row[1]))\n",
    "        \n",
    "Data_Cleaned=zip(Date,PL)\n",
    "\n",
    "print(\"Financial Analysis\")\n",
    "print(\"--------------------------------\")\n",
    "print (f\"Total Months: {len(Date)}\")\n",
    "def fsum(List):\n",
    "    Sum = 0\n",
    "    for i in List:\n",
    "        Sum = Sum + i\n",
    "    return Sum\n",
    "print (f\"Total: {fsum(PL)}\")\n",
    "Change=[PL[i+1]-PL[i] for i in range(len(PL)-1)]\n",
    "import statistics\n",
    "print (f\"Average  Change: {round(statistics.mean(Change),2)}\")\n",
    "print (f\"Greatest Increase in Profits: {Date[Change.index(max(Change))+1]} {max(Change)}\")\n",
    "print (f\"Greatest Decrease in Profits: {Date[Change.index(min(Change))+1]} {min(Change)}\")\n",
    "\n",
    "\n",
    "\n",
    "output_file=os.path.join(\"budget_final.txt\")\n",
    "with open(output_file, \"w\", newline=\"\\n\") as text_file:\n",
    "    #writer=txt.writer(datafile)\n",
    "    text_file.write(\"Financial Analysis\\n\")\n",
    "    text_file.write(\"------------------------------------\\n\")\n",
    "    text_file.write(f\"Total Months: {len(Date)}\\n\")\n",
    "    text_file.write(f\"Total: {fsum(PL)}\\n\")\n",
    "    text_file.write(f\"Average  Change: {round(statistics.mean(Change),2)}\\n\")\n",
    "    text_file.write(f\"Greatest Increase in Profits: {Date[Change.index(max(Change))+1]} {max(Change)}\\n\")\n",
    "    text_file.write(f\"Greatest Decrease in Profits: {Date[Change.index(min(Change))+1]} {min(Change)}\\n\")\n",
    "    \n",
    "    #writer.writerows(Data_Cleaned)\n",
    "\n",
    "    "
   ]
  },
  {
   "cell_type": "code",
   "execution_count": null,
   "metadata": {},
   "outputs": [],
   "source": []
  },
  {
   "cell_type": "code",
   "execution_count": null,
   "metadata": {},
   "outputs": [],
   "source": []
  }
 ],
 "metadata": {
  "kernelspec": {
   "display_name": "Python 3",
   "language": "python",
   "name": "python3"
  },
  "language_info": {
   "codemirror_mode": {
    "name": "ipython",
    "version": 3
   },
   "file_extension": ".py",
   "mimetype": "text/x-python",
   "name": "python",
   "nbconvert_exporter": "python",
   "pygments_lexer": "ipython3",
   "version": "3.7.0"
  }
 },
 "nbformat": 4,
 "nbformat_minor": 2
}
