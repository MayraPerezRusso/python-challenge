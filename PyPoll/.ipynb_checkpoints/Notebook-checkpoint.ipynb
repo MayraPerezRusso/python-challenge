{
 "cells": [
  {
   "cell_type": "code",
   "execution_count": 41,
   "metadata": {},
   "outputs": [
    {
     "name": "stdout",
     "output_type": "stream",
     "text": [
      "Election Results\n",
      "--------------------------------\n",
      "Total Votes: 3521001\n",
      "--------------------------------\n",
      "Khan: 63.000% 2218231\n",
      "Correy: 20.000% 704200\n",
      "Li: 14.000% 492940\n",
      "O'Tooley: 3.000% 105630\n",
      "--------------------------------\n",
      "Winner: Khan\n",
      "--------------------------------\n"
     ]
    }
   ],
   "source": [
    "import os\n",
    "import csv\n",
    "\n",
    "Data=os.path.join('..','PyPoll', 'election_data.csv')\n",
    "ID=[]\n",
    "County=[]\n",
    "Candidatelist=[]\n",
    "\n",
    "with open(Data, newline='') as csvfile:\n",
    "    csvreader=csv.reader(csvfile, delimiter=\",\")\n",
    "    csv_header=next(csvreader)\n",
    "    #print(f\"{csv_header}\")\n",
    "    for row in csvreader:\n",
    "        ID.append(int(row[0]))\n",
    "        County.append(row[1])\n",
    "        Candidatelist.append(row[2])\n",
    "        \n",
    "#print(ID[0:3])\n",
    "print(\"Election Results\")\n",
    "print(\"--------------------------------\")\n",
    "print (f\"Total Votes: {len(ID)}\")\n",
    "print(\"--------------------------------\")\n",
    "\n",
    "def Candidate(list1): \n",
    "    final_list = [] \n",
    "    for i in list1: \n",
    "        if i not in final_list: \n",
    "            final_list.append(i) \n",
    "    return final_list\n",
    "FinalCand=[]\n",
    "FinalCand=Candidate(Candidatelist)\n",
    "#print(FinalCand)\n",
    "\n",
    "def analysis(Candi):\n",
    "    for i in Candi:\n",
    "        name=Candi\n",
    "        pct=\"{:.3%}\".format(Candidatelist.count(Candi)/len(ID))\n",
    "        count=Candidatelist.count(Candi)\n",
    "    return f\"{name}: {pct} {count}\"\n",
    "name1=[]\n",
    "count1=[]\n",
    "for i in FinalCand:\n",
    "    print(analysis(i))\n",
    "    name1.append(i)\n",
    "    count1.append(Candidatelist.count(i))\n",
    "    \n",
    "print(\"--------------------------------\")\n",
    "print (f\"Winner: {name1[count1.index(max(count1))]}\")\n",
    "print(\"--------------------------------\")\n"
   ]
  },
  {
   "cell_type": "code",
   "execution_count": null,
   "metadata": {},
   "outputs": [],
   "source": []
  },
  {
   "cell_type": "code",
   "execution_count": null,
   "metadata": {},
   "outputs": [],
   "source": []
  }
 ],
 "metadata": {
  "kernelspec": {
   "display_name": "Python 3",
   "language": "python",
   "name": "python3"
  },
  "language_info": {
   "codemirror_mode": {
    "name": "ipython",
    "version": 3
   },
   "file_extension": ".py",
   "mimetype": "text/x-python",
   "name": "python",
   "nbconvert_exporter": "python",
   "pygments_lexer": "ipython3",
   "version": "3.7.0"
  }
 },
 "nbformat": 4,
 "nbformat_minor": 2
}
